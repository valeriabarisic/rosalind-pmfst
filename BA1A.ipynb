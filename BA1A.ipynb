{
  "nbformat": 4,
  "nbformat_minor": 0,
  "metadata": {
    "colab": {
      "provenance": []
    },
    "kernelspec": {
      "name": "python3",
      "display_name": "Python 3"
    },
    "language_info": {
      "name": "python"
    }
  },
  "cells": [
    {
      "cell_type": "code",
      "execution_count": 25,
      "metadata": {
        "id": "_AOfoftyc5Um"
      },
      "outputs": [],
      "source": [
        "\n",
        "def Count(t,p):\n",
        "  count=0\n",
        "  l=len(t)\n",
        "  k=len(p)\n",
        "  for i in range(0,l-k+1):\n",
        "    if (t[i:i+k]==p):\n",
        "      count=count+1\n",
        "  return count\n"
      ]
    },
    {
      "cell_type": "code",
      "source": [
        "Count(\"GCGCG\",\"GCG\")"
      ],
      "metadata": {
        "colab": {
          "base_uri": "https://localhost:8080/"
        },
        "id": "rq054wAJf6HC",
        "outputId": "434340f4-ea79-402f-cddb-8c2892353f37"
      },
      "execution_count": 26,
      "outputs": [
        {
          "output_type": "execute_result",
          "data": {
            "text/plain": [
              "2"
            ]
          },
          "metadata": {},
          "execution_count": 26
        }
      ]
    }
  ]
}