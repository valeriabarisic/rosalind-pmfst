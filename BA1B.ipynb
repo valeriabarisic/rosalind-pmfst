{
  "nbformat": 4,
  "nbformat_minor": 0,
  "metadata": {
    "colab": {
      "provenance": []
    },
    "kernelspec": {
      "name": "python3",
      "display_name": "Python 3"
    },
    "language_info": {
      "name": "python"
    }
  },
  "cells": [
    {
      "cell_type": "code",
      "execution_count": 2,
      "metadata": {
        "id": "TuTSHV0axdeg"
      },
      "outputs": [],
      "source": [
        "#from BA1A\n",
        "def PatternCount(tekst,pattern):\n",
        "  count=0\n",
        "  l=len(tekst)\n",
        "  k=len(pattern)\n",
        "  for i in range(0,l-k+1):\n",
        "    if (tekst[i:i+k]==pattern):\n",
        "      count=count+1\n",
        "  return count"
      ]
    },
    {
      "cell_type": "code",
      "source": [
        "def FrequentWords(tekst,k):\n",
        "  FrequentPatterns=()\n",
        "  Count=[]\n",
        "  t=len(tekst)\n",
        "  for i in range(0,t-k+1):\n",
        "    pattern=tekst[i:i+k]\n",
        "    Count[i]=PatternCount(tekst,pattern)\n",
        "  maxCount=max(Count)\n",
        "  for i in range(0,len(Count)+1):\n",
        "    if Count[i]==maxCount:\n",
        "      FrequentPatterns.add(tekst[i:i+k])\n",
        "  p=len(FrequentPatterns)\n",
        "  for i in range(0,p):\n",
        "    for j in range(i+1,p):\n",
        "      if (FrequentPatterns(i)==FrequentPatterns(j)):\n",
        "        FrequentPatterns(j).remove()\n",
        "  output=\"\"\n",
        "  l=len(FrequentPatterns)\n",
        "  for i in range(0,l):\n",
        "    output=output+\" \"+FrequentPatterns(i)\n",
        "  return output\n",
        "\n",
        "        \n",
        "\n",
        "\n"
      ],
      "metadata": {
        "id": "URPjO7DrzI-R"
      },
      "execution_count": 33,
      "outputs": []
    },
    {
      "cell_type": "code",
      "source": [
        "FrequentWords(\"ACGTTGCATGTCGCATGATGCATGAGAGCT\",4)"
      ],
      "metadata": {
        "colab": {
          "base_uri": "https://localhost:8080/",
          "height": 287
        },
        "id": "ERu6RK5G3_mX",
        "outputId": "4c3c4bcf-898f-4145-b774-19782da20771"
      },
      "execution_count": 34,
      "outputs": [
        {
          "output_type": "error",
          "ename": "IndexError",
          "evalue": "ignored",
          "traceback": [
            "\u001b[0;31m---------------------------------------------------------------------------\u001b[0m",
            "\u001b[0;31mIndexError\u001b[0m                                Traceback (most recent call last)",
            "\u001b[0;32m<ipython-input-34-04426a60bf7b>\u001b[0m in \u001b[0;36m<module>\u001b[0;34m\u001b[0m\n\u001b[0;32m----> 1\u001b[0;31m \u001b[0mFrequentWords\u001b[0m\u001b[0;34m(\u001b[0m\u001b[0;34m\"ACGTTGCATGTCGCATGATGCATGAGAGCT\"\u001b[0m\u001b[0;34m,\u001b[0m\u001b[0;36m4\u001b[0m\u001b[0;34m)\u001b[0m\u001b[0;34m\u001b[0m\u001b[0;34m\u001b[0m\u001b[0m\n\u001b[0m",
            "\u001b[0;32m<ipython-input-33-ca9e9b01ceff>\u001b[0m in \u001b[0;36mFrequentWords\u001b[0;34m(tekst, k)\u001b[0m\n\u001b[1;32m      5\u001b[0m   \u001b[0;32mfor\u001b[0m \u001b[0mi\u001b[0m \u001b[0;32min\u001b[0m \u001b[0mrange\u001b[0m\u001b[0;34m(\u001b[0m\u001b[0;36m0\u001b[0m\u001b[0;34m,\u001b[0m\u001b[0mt\u001b[0m\u001b[0;34m-\u001b[0m\u001b[0mk\u001b[0m\u001b[0;34m+\u001b[0m\u001b[0;36m1\u001b[0m\u001b[0;34m)\u001b[0m\u001b[0;34m:\u001b[0m\u001b[0;34m\u001b[0m\u001b[0;34m\u001b[0m\u001b[0m\n\u001b[1;32m      6\u001b[0m     \u001b[0mpattern\u001b[0m\u001b[0;34m=\u001b[0m\u001b[0mtekst\u001b[0m\u001b[0;34m[\u001b[0m\u001b[0mi\u001b[0m\u001b[0;34m:\u001b[0m\u001b[0mi\u001b[0m\u001b[0;34m+\u001b[0m\u001b[0mk\u001b[0m\u001b[0;34m]\u001b[0m\u001b[0;34m\u001b[0m\u001b[0;34m\u001b[0m\u001b[0m\n\u001b[0;32m----> 7\u001b[0;31m     \u001b[0mCount\u001b[0m\u001b[0;34m[\u001b[0m\u001b[0mi\u001b[0m\u001b[0;34m]\u001b[0m\u001b[0;34m=\u001b[0m\u001b[0mPatternCount\u001b[0m\u001b[0;34m(\u001b[0m\u001b[0mtekst\u001b[0m\u001b[0;34m,\u001b[0m\u001b[0mpattern\u001b[0m\u001b[0;34m)\u001b[0m\u001b[0;34m\u001b[0m\u001b[0;34m\u001b[0m\u001b[0m\n\u001b[0m\u001b[1;32m      8\u001b[0m   \u001b[0mmaxCount\u001b[0m\u001b[0;34m=\u001b[0m\u001b[0mmax\u001b[0m\u001b[0;34m(\u001b[0m\u001b[0mCount\u001b[0m\u001b[0;34m)\u001b[0m\u001b[0;34m\u001b[0m\u001b[0;34m\u001b[0m\u001b[0m\n\u001b[1;32m      9\u001b[0m   \u001b[0;32mfor\u001b[0m \u001b[0mi\u001b[0m \u001b[0;32min\u001b[0m \u001b[0mrange\u001b[0m\u001b[0;34m(\u001b[0m\u001b[0;36m0\u001b[0m\u001b[0;34m,\u001b[0m\u001b[0mlen\u001b[0m\u001b[0;34m(\u001b[0m\u001b[0mCount\u001b[0m\u001b[0;34m)\u001b[0m\u001b[0;34m+\u001b[0m\u001b[0;36m1\u001b[0m\u001b[0;34m)\u001b[0m\u001b[0;34m:\u001b[0m\u001b[0;34m\u001b[0m\u001b[0;34m\u001b[0m\u001b[0m\n",
            "\u001b[0;31mIndexError\u001b[0m: list assignment index out of range"
          ]
        }
      ]
    },
    {
      "cell_type": "code",
      "source": [
        "PatternCount(\"GCGCG\",\"GCG\")"
      ],
      "metadata": {
        "colab": {
          "base_uri": "https://localhost:8080/"
        },
        "id": "o8cStwJx9X0D",
        "outputId": "c380ea19-ce8d-4d9e-caf5-9655c7fb674d"
      },
      "execution_count": 35,
      "outputs": [
        {
          "output_type": "execute_result",
          "data": {
            "text/plain": [
              "2"
            ]
          },
          "metadata": {},
          "execution_count": 35
        }
      ]
    }
  ]
}